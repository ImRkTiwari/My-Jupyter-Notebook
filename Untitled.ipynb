{
 "cells": [
  {
   "cell_type": "markdown",
   "id": "769346b1-6e98-4e18-9beb-411d96fd7954",
   "metadata": {},
   "source": [
    "# **My Jupyter Notebook on IBM Watson Studio**"
   ]
  },
  {
   "cell_type": "markdown",
   "id": "dbf8afb9-7f2e-4c71-8911-7695ddeebb1d",
   "metadata": {},
   "source": [
    "**Rishu Kumar Tiwari**\n",
    "\n",
    "Student"
   ]
  },
  {
   "cell_type": "markdown",
   "id": "fcf1b41f-e0cb-4d1c-a76e-59f92b438027",
   "metadata": {},
   "source": [
    "*I am interested in Data Science because I am curious to learn new things and Data Science is the field where I have to be updated with the new skills*"
   ]
  },
  {
   "cell_type": "markdown",
   "id": "a8392fe3-5a55-4e90-b2ea-4e043c61d185",
   "metadata": {},
   "source": [
    "### **The following code Generates a Random Number**"
   ]
  },
  {
   "cell_type": "code",
   "execution_count": 6,
   "id": "a7ff85a6-4b11-47ff-98e8-683eb4d799c4",
   "metadata": {},
   "outputs": [
    {
     "name": "stdout",
     "output_type": "stream",
     "text": [
      "6\n"
     ]
    }
   ],
   "source": [
    "import random\n",
    "\n",
    "print(random.randint(0, 9))"
   ]
  },
  {
   "cell_type": "markdown",
   "id": "cfc9a359-7f5d-47df-8740-894e747a93a6",
   "metadata": {},
   "source": [
    "* one\n",
    "* two\n",
    "* three\n",
    "* one\n",
    "* two\n",
    "* three\n",
    "\n",
    "\n",
    "Markdown | Less | Pretty\n",
    "--- | --- | --- |\n",
    "*Still* | `renders` | **nicely**\n",
    "1 | 2 | 3"
   ]
  }
 ],
 "metadata": {
  "kernelspec": {
   "display_name": "Python",
   "language": "python",
   "name": "conda-env-python-py"
  },
  "language_info": {
   "codemirror_mode": {
    "name": "ipython",
    "version": 3
   },
   "file_extension": ".py",
   "mimetype": "text/x-python",
   "name": "python",
   "nbconvert_exporter": "python",
   "pygments_lexer": "ipython3",
   "version": "3.7.12"
  }
 },
 "nbformat": 4,
 "nbformat_minor": 5
}
